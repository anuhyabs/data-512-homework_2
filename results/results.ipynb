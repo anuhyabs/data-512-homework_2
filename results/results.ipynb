{
 "cells": [
  {
   "cell_type": "markdown",
   "metadata": {},
   "source": [
    "#### Top 10 countries by high quality: The 10 countries with the highest high quality articles per capita\n",
    "\n",
    "Rank |country\t|population\t|count\t|quality_per_capita\n",
    "---|---|---|---|---\n",
    "1\t|Antigua and Barbuda\t|0.1\t|17\t|0.000170\n",
    "2\t|Federated States of Micronesia\t|0.1\t|13\t|0.000130\n",
    "3\t|Andorra\t|0.1\t|10\t|0.000100\n",
    "4\t|Barbados\t|0.3\t|28\t|0.000093\n",
    "5\t|Marshall Islands\t|0.1\t|9\t|0.000090\n",
    "6\t|Montenegro\t|0.6\t|36\t|0.000060\n",
    "7\t|Seychelles\t|0.1\t|6\t|0.000060\n",
    "8\t|Luxembourg\t|0.7\t|37\t|0.000053\n",
    "9\t|Bhutan\t|0.8\t|41\t|0.000051\n",
    "10\t|Grenada\t|0.1\t|5\t|0.000050"
   ]
  }
 ],
 "metadata": {
  "kernelspec": {
   "display_name": "Python 3.9.5 64-bit",
   "language": "python",
   "name": "python3"
  },
  "language_info": {
   "name": "python",
   "version": "3.9.5"
  },
  "orig_nbformat": 4,
  "vscode": {
   "interpreter": {
    "hash": "7019494c316389886f5f5fcb2e396e2fee403f1eb1d04a04c662a640ad80dd4e"
   }
  }
 },
 "nbformat": 4,
 "nbformat_minor": 2
}
